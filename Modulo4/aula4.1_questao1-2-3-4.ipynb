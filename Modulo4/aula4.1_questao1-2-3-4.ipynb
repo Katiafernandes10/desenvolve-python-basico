{
 "cells": [
  {
   "cell_type": "markdown",
   "id": "885a6674-90b8-4f44-8af6-0fdbb26a9bd7",
   "metadata": {},
   "source": [
    "1-Transforme em código o fluxograma a seguir\n"
   ]
  },
  {
   "cell_type": "code",
   "execution_count": 6,
   "id": "cf13953c-d188-4f82-9a5f-c5b857be2ce2",
   "metadata": {},
   "outputs": [
    {
     "name": "stdin",
     "output_type": "stream",
     "text": [
      " 1\n"
     ]
    },
    {
     "name": "stdout",
     "output_type": "stream",
     "text": [
      "Fim\n"
     ]
    }
   ],
   "source": [
    "x= int(input())\n",
    "\n",
    "if x > 5:\n",
    "    print(\"Maior que 5\")\n",
    "else:\n",
    "    print(\"Fim\")"
   ]
  },
  {
   "cell_type": "markdown",
   "id": "ede30938-6f6e-4438-aece-a681b2fe8686",
   "metadata": {},
   "source": [
    "2-Transforme em código o fluxograma a seguir\n"
   ]
  },
  {
   "cell_type": "code",
   "execution_count": 11,
   "id": "4cf4d81e-7ce5-4d29-953c-d0be569c0ab5",
   "metadata": {},
   "outputs": [
    {
     "name": "stdin",
     "output_type": "stream",
     "text": [
      "Digite um número: 2\n"
     ]
    },
    {
     "name": "stdout",
     "output_type": "stream",
     "text": [
      "1\n",
      "2\n",
      "3\n",
      "Fim\n"
     ]
    }
   ],
   "source": [
    "n= int(input(\"Digite um número:\"))\n",
    "cont = 0\n",
    "while n >= cont:\n",
    "    cont =cont+1\n",
    "    print(cont)\n",
    "else:\n",
    "    print(\"Fim\")\n",
    "    "
   ]
  },
  {
   "cell_type": "markdown",
   "id": "1f80686f-4852-4c81-b0cd-cc0e4a96df2c",
   "metadata": {},
   "source": [
    "3-Transforme em código o fluxograma a seguir\n"
   ]
  },
  {
   "cell_type": "code",
   "execution_count": 12,
   "id": "39cb6c74-2a68-4cda-8822-33e0596ebd5e",
   "metadata": {},
   "outputs": [
    {
     "name": "stdin",
     "output_type": "stream",
     "text": [
      "Digite a primeira nota:  5\n",
      "Digite a segunda nota:  4\n",
      "Digite a terceira nota:  10\n"
     ]
    },
    {
     "name": "stdout",
     "output_type": "stream",
     "text": [
      "Reprovado\n",
      "Fim\n"
     ]
    }
   ],
   "source": [
    "# Leitura das três notas\n",
    "n1 = float(input(\"Digite a primeira nota: \"))\n",
    "n2 = float(input(\"Digite a segunda nota: \"))\n",
    "n3 = float(input(\"Digite a terceira nota: \"))\n",
    "\n",
    "# Cálculo da média\n",
    "m = (n1 + n2 + n3) / 3\n",
    "\n",
    "# Verificação da situação\n",
    "if m >= 60:\n",
    "    print(\"Aprovado\")\n",
    "elif m >= 40:\n",
    "    print(\"Recuperação\")\n",
    "else:\n",
    "    print(\"Reprovado\")\n",
    "\n",
    "# Fim do programa\n",
    "print(\"Fim\")"
   ]
  },
  {
   "cell_type": "markdown",
   "id": "8a9445ef-90ac-4029-9a35-d67f70da7659",
   "metadata": {},
   "source": [
    "4-Transforme em código o fluxograma a seguir"
   ]
  },
  {
   "cell_type": "code",
   "execution_count": 14,
   "id": "a228f0be-75ab-4863-998e-129f0f2b2329",
   "metadata": {},
   "outputs": [
    {
     "name": "stdin",
     "output_type": "stream",
     "text": [
      "Digite a quantidade de números:  4\n",
      "Digite um número:  5\n",
      "Digite um número:  2\n",
      "Digite um número:  3\n",
      "Digite um número:  2\n"
     ]
    },
    {
     "name": "stdout",
     "output_type": "stream",
     "text": [
      "Maior número: 5\n"
     ]
    }
   ],
   "source": [
    "# Leia n\n",
    "n = int(input(\"Digite a quantidade de números: \"))\n",
    "\n",
    "# Inicializar o maior com 0\n",
    "maior = 0\n",
    "\n",
    "# Loop enquanto n > 0\n",
    "while n > 0:\n",
    "    x = int(input(\"Digite um número: \"))\n",
    "    \n",
    "    if x > maior:\n",
    "        maior = x\n",
    "\n",
    "    n = n - 1\n",
    "\n",
    "# Imprimir o maior número lido\n",
    "print(\"Maior número:\", maior)"
   ]
  },
  {
   "cell_type": "code",
   "execution_count": null,
   "id": "b21bc574-669a-4e88-8e20-c4b2ce6c99c2",
   "metadata": {},
   "outputs": [],
   "source": []
  }
 ],
 "metadata": {
  "kernelspec": {
   "display_name": "Python 3 (ipykernel)",
   "language": "python",
   "name": "python3"
  },
  "language_info": {
   "codemirror_mode": {
    "name": "ipython",
    "version": 3
   },
   "file_extension": ".py",
   "mimetype": "text/x-python",
   "name": "python",
   "nbconvert_exporter": "python",
   "pygments_lexer": "ipython3",
   "version": "3.12.2"
  }
 },
 "nbformat": 4,
 "nbformat_minor": 5
}
