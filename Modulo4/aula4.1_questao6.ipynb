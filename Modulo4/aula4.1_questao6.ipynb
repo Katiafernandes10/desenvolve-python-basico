{
 "cells": [
  {
   "cell_type": "markdown",
   "id": "cf781481-48f9-4f62-91a7-c1cac6d1fe82",
   "metadata": {},
   "source": [
    "Exercício de maratona:  https://www.beecrowd.com.br/judge/pt/problems/view/1094\n",
    "\n",
    "Maria precisa de sua ajuda para organizar os experimentos de seu laboratório. Ela quer saber no final do ano, quantas cobaias foram utilizadas no laboratório e o percentual de cada tipo de cobaia utilizada. Este laboratório utiliza três tipos de cobaias: sapos, ratos e coelhos. \n",
    "\n",
    "Entrada: A primeira linha de entrada é um inteiro N com a quantidade de experimentos registrados. As N linhas seguintes contém um inteiro Quantia que representa a quantidade de cobaias utilizadas e um caractere Tipo ('S', 'R' ou 'C') com o tipo de cobaia (S:Sapo, R:Rato ou C:Coelho).\n",
    "\n",
    "Saída: Apresente o total de cobaias utilizadas, o total de cada tipo de cobaia e o percentual de cada uma em relação ao total de cobaias utilizadas"
   ]
  },
  {
   "cell_type": "code",
   "execution_count": 6,
   "id": "580ad1f5-8364-468c-a3d6-bc915541fdf4",
   "metadata": {},
   "outputs": [
    {
     "name": "stdin",
     "output_type": "stream",
     "text": [
      " 3\n",
      " 11\n",
      " s\n"
     ]
    },
    {
     "name": "stdout",
     "output_type": "stream",
     "text": [
      "Total de cobaias: 0\n",
      "Total de sapos: 0\n",
      "Total de ratos: 0\n",
      "Total de coelhos: 0\n"
     ]
    },
    {
     "name": "stdin",
     "output_type": "stream",
     "text": [
      " 5\n",
      " R\n"
     ]
    },
    {
     "name": "stdout",
     "output_type": "stream",
     "text": [
      "Total de cobaias: 5\n",
      "Total de sapos: 0\n",
      "Total de ratos: 5\n",
      "Total de coelhos: 0\n"
     ]
    },
    {
     "name": "stdin",
     "output_type": "stream",
     "text": [
      " 3\n",
      " C\n"
     ]
    },
    {
     "name": "stdout",
     "output_type": "stream",
     "text": [
      "Total de cobaias: 8\n",
      "Total de sapos: 0\n",
      "Total de ratos: 5\n",
      "Total de coelhos: 3\n"
     ]
    }
   ],
   "source": [
    "# Entrada de dados\n",
    "n = int (input()) # quantidade de experimentos\n",
    "\n",
    "#Inicializar as variaveis resultado e controle\n",
    "cont = 0\n",
    "soma_sapo, soma_rato, soma_coelho = 0, 0, 0\n",
    "\n",
    "#Iterações\n",
    "while cont < n:\n",
    "    quantia = int(input())\n",
    "    tipo = input()\n",
    "\n",
    "    if tipo == 'S':\n",
    "        soma_sapo += quantia\n",
    "    elif tipo == 'R':\n",
    "        soma_rato += quantia\n",
    "    elif tipo == 'C':\n",
    "        soma_coelho += quantia\n",
    "        \n",
    "    cont += 1\n",
    "\n",
    "    print(\"Total de cobaias:\", soma_sapo+ soma_rato+ soma_coelho)\n",
    "    print(\"Total de sapos:\", soma_sapo)\n",
    "    print(\"Total de ratos:\", soma_rato)\n",
    "    print(\"Total de coelhos:\", soma_coelho)"
   ]
  },
  {
   "cell_type": "markdown",
   "id": "33e12b6d-3550-4be2-a313-bd9cd89c3a59",
   "metadata": {},
   "source": [
    "3\n",
    "11\n",
    "s\n"
   ]
  }
 ],
 "metadata": {
  "kernelspec": {
   "display_name": "Python 3 (ipykernel)",
   "language": "python",
   "name": "python3"
  },
  "language_info": {
   "codemirror_mode": {
    "name": "ipython",
    "version": 3
   },
   "file_extension": ".py",
   "mimetype": "text/x-python",
   "name": "python",
   "nbconvert_exporter": "python",
   "pygments_lexer": "ipython3",
   "version": "3.12.2"
  }
 },
 "nbformat": 4,
 "nbformat_minor": 5
}
