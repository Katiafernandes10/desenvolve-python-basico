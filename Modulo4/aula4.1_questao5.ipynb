{
 "cells": [
  {
   "cell_type": "code",
   "execution_count": null,
   "id": "d654c965-cd43-4d02-a102-150f180c7c02",
   "metadata": {},
   "outputs": [],
   "source": []
  },
  {
   "cell_type": "code",
   "execution_count": 3,
   "id": "af161d9c-86bc-4de1-8b25-509d302549cc",
   "metadata": {},
   "outputs": [
    {
     "name": "stdin",
     "output_type": "stream",
     "text": [
      "Digite a quantidade de respondentes:  3\n",
      "Digite a idade do respondente 1:  15\n",
      "Digite a idade do respondente 2:  20\n",
      "Digite a idade do respondente 3:  10\n"
     ]
    },
    {
     "name": "stdout",
     "output_type": "stream",
     "text": [
      "Média das idades: 15.0\n"
     ]
    }
   ],
   "source": [
    "# Ler a quantidade de respondentes\n",
    "n = int(input(\"Digite a quantidade de respondentes: \"))\n",
    "\n",
    "# Inicializar a soma das idades\n",
    "soma_idades = 0\n",
    "\n",
    "# Ler as idades e somar\n",
    "for i in range(n):\n",
    "    idade = int(input(f\"Digite a idade do respondente {i+1}: \"))\n",
    "    soma_idades += idade\n",
    "\n",
    "# Calcular a média\n",
    "media = soma_idades / n\n",
    "\n",
    "# Imprimir a média\n",
    "print(\"Média das idades:\", round(media, 2))"
   ]
  },
  {
   "cell_type": "code",
   "execution_count": null,
   "id": "181bb6ed-c7a8-48cc-9a48-b67e6cab189d",
   "metadata": {},
   "outputs": [],
   "source": []
  }
 ],
 "metadata": {
  "kernelspec": {
   "display_name": "Python 3 (ipykernel)",
   "language": "python",
   "name": "python3"
  },
  "language_info": {
   "codemirror_mode": {
    "name": "ipython",
    "version": 3
   },
   "file_extension": ".py",
   "mimetype": "text/x-python",
   "name": "python",
   "nbconvert_exporter": "python",
   "pygments_lexer": "ipython3",
   "version": "3.12.2"
  }
 },
 "nbformat": 4,
 "nbformat_minor": 5
}
