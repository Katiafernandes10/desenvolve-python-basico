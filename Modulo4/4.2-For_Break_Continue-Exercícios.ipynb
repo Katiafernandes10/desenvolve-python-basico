{
 "cells": [
  {
   "cell_type": "markdown",
   "id": "29e89030",
   "metadata": {},
   "source": [
    "# Módulo 4 - Repetições\n",
    "\n",
    "## Aulas 4.2 - Comando ```for``` e 4.3 Break e Continue"
   ]
  },
  {
   "cell_type": "markdown",
   "id": "a45b42df",
   "metadata": {},
   "source": [
    "### Q1.\n",
    "\n",
    "Crie um programa em Python que utilize o comando for para imprimir os números de 10 a 1, em ordem decrescente."
   ]
  },
  {
   "cell_type": "code",
   "execution_count": 1,
   "id": "55a75b3d",
   "metadata": {},
   "outputs": [
    {
     "name": "stdout",
     "output_type": "stream",
     "text": [
      "10\n",
      "9\n",
      "8\n",
      "7\n",
      "6\n",
      "5\n",
      "4\n",
      "3\n",
      "2\n",
      "1\n"
     ]
    }
   ],
   "source": [
    "for numero in range(10,0,-1):\n",
    "    print(numero)\n"
   ]
  },
  {
   "cell_type": "markdown",
   "id": "94b47c36",
   "metadata": {},
   "source": [
    "### Q2.\n",
    "\n",
    "Dado um número inteiro positivo informado pelo usuário, crie um programa em Python que utilize o comando for para calcular e exibir a soma dos números de 1 até o número informado. Ou seja, $1 + 2 + 3 + ... + n$\n",
    "\n",
    "Exemplo de interação:\n",
    "```\n",
    "Digite um número: 5\n",
    "A soma dos números de 1 a 5 é 15\n",
    "```\n"
   ]
  },
  {
   "cell_type": "code",
   "execution_count": 4,
   "id": "45b71596",
   "metadata": {},
   "outputs": [
    {
     "name": "stdin",
     "output_type": "stream",
     "text": [
      "Digite um número:  10\n"
     ]
    },
    {
     "name": "stdout",
     "output_type": "stream",
     "text": [
      "A soma dos números de 1 a 10 é 55\n"
     ]
    }
   ],
   "source": [
    "# Solicita ao usuário que digite um número inteiro positivo\n",
    "numero = int(input(\"Digite um número: \"))\n",
    "\n",
    "# Inicializa a variável soma\n",
    "soma = 0\n",
    "\n",
    "# Usa o laço for para somar de 1 até o número informado\n",
    "for i in range(1, numero + 1):\n",
    "    soma += i\n",
    "\n",
    "# Exibe o resultado\n",
    "print(f\"A soma dos números de 1 a {numero} é {soma}\")"
   ]
  },
  {
   "cell_type": "markdown",
   "id": "0411d170",
   "metadata": {},
   "source": [
    "### Q3.\n",
    "\n",
    "Escreva um programa que lê 10 valores inteiros positivos do usuário e ao final imprime a média dos valores digitados com duas casas decimais.\n",
    "\n",
    "```\n",
    "Digite 10 números positivos:\n",
    "3\n",
    "2\n",
    "12\n",
    "14\n",
    "20\n",
    "42\n",
    "19\n",
    "0\n",
    "8\n",
    "1\n",
    "A média dos valores digitados é 12.10\n",
    "```"
   ]
  },
  {
   "cell_type": "code",
   "execution_count": 8,
   "id": "3f72f358",
   "metadata": {},
   "outputs": [
    {
     "name": "stdout",
     "output_type": "stream",
     "text": [
      "Digite 10 números positivos:\n"
     ]
    },
    {
     "name": "stdin",
     "output_type": "stream",
     "text": [
      " 2\n",
      " 5\n",
      " 6\n",
      " 7\n",
      " 1\n",
      " 2\n",
      " 3\n",
      " 5\n",
      " 6\n",
      " 3\n"
     ]
    },
    {
     "name": "stdout",
     "output_type": "stream",
     "text": [
      "A média dos valores digitados é 4.00\n"
     ]
    }
   ],
   "source": [
    "print(\"Digite 10 números positivos:\")\n",
    "\n",
    "soma = 0  # Vai acumular a soma dos valores\n",
    "\n",
    "for i in range(10):  # Repetir 10 vezes\n",
    "    numero = int(input())  # Lê um número inteiro\n",
    "    soma += numero  # Soma ao total\n",
    "\n",
    "media = soma / 10  # Calcula a média\n",
    "\n",
    "# Exibe a média com duas casas decimais\n",
    "print(f\"A média dos valores digitados é {media:.2f}\")"
   ]
  },
  {
   "cell_type": "markdown",
   "id": "d62e27ff",
   "metadata": {},
   "source": [
    "### Q4.\n",
    "\n",
    "Você vai criar um sistema que registra os resultados dos jogos do Atlético MG ao longo de um campeonato. Seu sistema vai receber os resultados de todos os jogos do Galo, e deve calcular a pontuação do time sabendo que vitórias valem 3 pontos, empates 1 ponto e derrotas 0 pontos.\n",
    "\n",
    "Entrada: <br>\n",
    "A primeira linha de entrada é um inteiro N com a quantidade jogos do galo. Para cada jogo você deve ler 2 inteiros, o primeiro com a quantidade de gols do galo e o segundo com a quantidade de gols do time oponente. \n",
    "\n",
    "Saída: <br>\n",
    "Apresente a soma de vitórias, empates e derrotas do galo, junto com o cálculo da pontuação total.\n",
    "\n",
    "Ex:\n",
    "```\n",
    "Entrada:\n",
    "4\n",
    "2\n",
    "0\n",
    "1\n",
    "1\n",
    "0\n",
    "3\n",
    "1\n",
    "0\n",
    "\n",
    "Saída:\n",
    "Vitórias: 2\n",
    "Empates: 1\n",
    "Derrotas: 1\n",
    "Pontuação: 7\n",
    "\n",
    "```\n",
    "\n",
    "\n"
   ]
  },
  {
   "cell_type": "code",
   "execution_count": 9,
   "id": "d3fdfc2a",
   "metadata": {},
   "outputs": [
    {
     "name": "stdin",
     "output_type": "stream",
     "text": [
      " 2\n",
      " 1\n",
      " 0\n",
      " 1\n",
      " 2\n"
     ]
    },
    {
     "name": "stdout",
     "output_type": "stream",
     "text": [
      "Vitórias: 1\n",
      "Empates: 0\n",
      "Derrotas: 1\n",
      "Pontuação: 3\n"
     ]
    }
   ],
   "source": [
    "# Lê a quantidade de jogos\n",
    "n = int(input())\n",
    "\n",
    "# Inicializa contadores\n",
    "vitorias = 0\n",
    "empates = 0\n",
    "derrotas = 0\n",
    "\n",
    "# Processa cada jogo\n",
    "for _ in range(n):\n",
    "    gols_galo = int(input())       # Gols do Atlético MG\n",
    "    gols_adversario = int(input()) # Gols do time adversário\n",
    "\n",
    "    if gols_galo > gols_adversario:\n",
    "        vitorias += 1\n",
    "    elif gols_galo == gols_adversario:\n",
    "        empates += 1\n",
    "    else:\n",
    "        derrotas += 1\n",
    "\n",
    "# Calcula pontuação: 3 por vitória, 1 por empate\n",
    "pontuacao = vitorias * 3 + empates * 1\n",
    "\n",
    "# Exibe os resultados\n",
    "print(f\"Vitórias: {vitorias}\")\n",
    "print(f\"Empates: {empates}\")\n",
    "print(f\"Derrotas: {derrotas}\")\n",
    "print(f\"Pontuação: {pontuacao}\")\n"
   ]
  },
  {
   "cell_type": "markdown",
   "id": "fc98604d",
   "metadata": {},
   "source": [
    "### Q5.\n",
    "\n",
    "Faça um programa que lê dois inteiros N e M, e imprime na tela um campo de batalha naval. O tabuleiro deve possuir N linhas e M colunas. A primeira linha é composta por um espaço em branco e o cabeçalho das colunas, ou seja, valores de 1 a M. As N linhas seguintes iniciam com o cabeçalho da linha, ou seja, seu número, seguido de M caracteres \"/\" (barra) indicando uma possível posição jogável. \n",
    "\n",
    "```\n",
    "Entrada:\n",
    "5\n",
    "4\n",
    "\n",
    "Saída:\n",
    "  1 2 3 4 \n",
    "1 / / / / \n",
    "2 / / / / \n",
    "3 / / / / \n",
    "4 / / / / \n",
    "5 / / / / \n",
    "```\n",
    "\n",
    "Para esse exercício, precisamos lembrar que o comando print implicitamente adiciona uma quebra de linha ao final da impressão. Podemos interferir no final da impressão adicionando mais uma entrada ao print. No exemplo, finalizamos cada linha com um espaço em branco:\n",
    "```python\n",
    "print(\"Texto qualquer\", end = \" \")\n",
    "```"
   ]
  },
  {
   "cell_type": "code",
   "execution_count": 11,
   "id": "a60ef197",
   "metadata": {},
   "outputs": [
    {
     "name": "stdin",
     "output_type": "stream",
     "text": [
      " 5\n",
      " 3\n"
     ]
    },
    {
     "name": "stdout",
     "output_type": "stream",
     "text": [
      "  1 2 3 \n",
      "1 / / / \n",
      "2 / / / \n",
      "3 / / / \n",
      "4 / / / \n",
      "5 / / / \n"
     ]
    }
   ],
   "source": [
    "# Lê os valores de N (linhas) e M (colunas)\n",
    "N = int(input())\n",
    "M = int(input())\n",
    "\n",
    "# Imprime o cabeçalho das colunas\n",
    "print(\" \", end=\" \")  # Espaço inicial antes dos números das colunas\n",
    "for j in range(1, M + 1):\n",
    "    print(j, end=\" \")\n",
    "print()  # Quebra de linha depois do cabeçalho\n",
    "\n",
    "# Imprime as linhas do tabuleiro\n",
    "for i in range(1, N + 1):\n",
    "    print(i, end=\" \")  # Cabeçalho da linha\n",
    "    for j in range(M):\n",
    "        print(\"/\", end=\" \")\n",
    "    print()  # Quebra de linha ao final de cada linha\n",
    "    \n"
   ]
  },
  {
   "cell_type": "markdown",
   "id": "4654dc0b",
   "metadata": {},
   "source": [
    "### Q6.\n",
    "Escreva um programa que lê uma quantidade indefinida de valores e informa o maior e o menor valor digitados. A leitura é encerrada quando o usuário digitar o valor 0 (zero).\n",
    "\n",
    "Entrada:\n",
    "12\n",
    "-1\n",
    "29\n",
    "11\n",
    "-5\n",
    "0\n",
    "\n",
    "Saída:\n",
    "Maior: 29\n",
    "Menor: -5"
   ]
  },
  {
   "cell_type": "code",
   "execution_count": 20,
   "id": "f78b21d9-2c18-48c9-a6f1-ccb9581a02f4",
   "metadata": {},
   "outputs": [
    {
     "name": "stdin",
     "output_type": "stream",
     "text": [
      " 10\n",
      " 6\n",
      " 0\n"
     ]
    },
    {
     "name": "stdout",
     "output_type": "stream",
     "text": [
      "Maior: 10\n",
      "Menor: 6\n"
     ]
    }
   ],
   "source": [
    "# Inicializa as variáveis com None (sem valor definido ainda)\n",
    "maior = None\n",
    "menor = None\n",
    "\n",
    "while True:\n",
    "    valor = int(input())\n",
    "\n",
    "    if valor == 0:\n",
    "        break  # Encerra a leitura\n",
    "\n",
    "    # Atualiza o maior valor\n",
    "    if maior is None or valor > maior:\n",
    "        maior = valor\n",
    "\n",
    "    # Atualiza o menor valor\n",
    "    if menor is None or valor < menor:\n",
    "        menor = valor\n",
    "\n",
    "# Imprime os resultados\n",
    "print(f\"Maior: {maior}\")\n",
    "print(f\"Menor: {menor}\")"
   ]
  },
  {
   "cell_type": "markdown",
   "id": "30d486f7",
   "metadata": {},
   "source": [
    "### Q7.\n",
    "\n",
    "Escreva um programa que lê uma quantidade indefinida de valores e informa o **produto** dos valores positivos digitados. A leitura é encerrada quando o usuário digitar o valor 0 (zero).\n",
    "\n",
    "```\n",
    "Entrada:\n",
    "2\n",
    "-1\n",
    "1\n",
    "3\n",
    "-5\n",
    "0\n",
    "\n",
    "Saída:\n",
    "Produto: 6\n",
    "```"
   ]
  },
  {
   "cell_type": "code",
   "execution_count": 13,
   "id": "445a3185-7dc7-4f10-b4d7-e69793dce37e",
   "metadata": {},
   "outputs": [
    {
     "name": "stdin",
     "output_type": "stream",
     "text": [
      "Digite um valor (0 para sair):  2\n",
      "Digite um valor (0 para sair):  5\n",
      "Digite um valor (0 para sair):  3\n",
      "Digite um valor (0 para sair):  6\n",
      "Digite um valor (0 para sair):  7\n",
      "Digite um valor (0 para sair):  9\n",
      "Digite um valor (0 para sair):  8\n",
      "Digite um valor (0 para sair):  8\n",
      "Digite um valor (0 para sair):  9\n",
      "Digite um valor (0 para sair):  7\n",
      "Digite um valor (0 para sair):  5\n",
      "Digite um valor (0 para sair):  8\n",
      "Digite um valor (0 para sair):  6\n",
      "Digite um valor (0 para sair):  6\n",
      "Digite um valor (0 para sair):  5\n",
      "Digite um valor (0 para sair):  4\n",
      "Digite um valor (0 para sair):  0\n"
     ]
    },
    {
     "name": "stdout",
     "output_type": "stream",
     "text": [
      "Maior valor: 9\n",
      "Menor valor: 2\n"
     ]
    }
   ],
   "source": [
    "# Inicializa as variáveis com None (sem valor definido)\n",
    "maior = None\n",
    "menor = None\n",
    "\n",
    "while True:\n",
    "    valor = int(input(\"Digite um valor (0 para sair): \"))\n",
    "\n",
    "    if valor == 0:\n",
    "        break  # Encerra a leitura\n",
    "\n",
    "    # Atualiza maior e menor\n",
    "    if maior is None or valor > maior:\n",
    "        maior = valor\n",
    "    if menor is None or valor < menor:\n",
    "        menor = valor\n",
    "\n",
    "# Exibe os resultados se pelo menos um número foi digitado\n",
    "if maior is not None and menor is not None:\n",
    "    print(f\"Maior valor: {maior}\")\n",
    "    print(f\"Menor valor: {menor}\")\n",
    "else:\n",
    "    print(\"Nenhum valor foi digitado.\")"
   ]
  },
  {
   "cell_type": "markdown",
   "id": "e932f3cf",
   "metadata": {},
   "source": [
    "### Q8.\n",
    "\n",
    "Vamos fazer uma calculadora que aceita expressões aritméticas de qualquer tamanho até que o usuário digite a palavra \"Fim\". Sua calculadora executa apenas as operações \"+\", \"-\".\n",
    "\n",
    "```\n",
    "Entrada:\n",
    "5\n",
    "+\n",
    "8\n",
    "-\n",
    "3\n",
    "+\n",
    "2\n",
    "Fim\n",
    "\n",
    "Saída:\n",
    "12\n",
    "```"
   ]
  },
  {
   "cell_type": "code",
   "execution_count": 19,
   "id": "4b03aa11-58c8-458f-9d12-14a53a979e50",
   "metadata": {},
   "outputs": [
    {
     "name": "stdin",
     "output_type": "stream",
     "text": [
      " 5\n",
      " +\n",
      " 2\n",
      " -\n",
      " 2\n",
      " +\n",
      " 3\n",
      " Fim\n"
     ]
    },
    {
     "name": "stdout",
     "output_type": "stream",
     "text": [
      "8\n"
     ]
    }
   ],
   "source": [
    "# Lê o primeiro número da expressão\n",
    "resultado = int(input())\n",
    "\n",
    "while True:\n",
    "    operador = input()  # Lê o próximo operador ou \"Fim\"\n",
    "    \n",
    "    if operador == \"Fim\":\n",
    "        break  # Encerra o loop\n",
    "\n",
    "    numero = int(input())  # Lê o número seguinte\n",
    "\n",
    "    # Aplica a operação\n",
    "    if operador == \"+\":\n",
    "        resultado += numero\n",
    "    elif operador == \"-\":\n",
    "        resultado -= numero\n",
    "    else:\n",
    "        print(\"Operador inválido!\")\n",
    "\n",
    "# Exibe o resultado final\n",
    "print(resultado)"
   ]
  },
  {
   "cell_type": "code",
   "execution_count": null,
   "id": "9da368fe-cb03-4859-9d01-0c2a9747965a",
   "metadata": {},
   "outputs": [],
   "source": []
  }
 ],
 "metadata": {
  "kernelspec": {
   "display_name": "Python 3 (ipykernel)",
   "language": "python",
   "name": "python3"
  },
  "language_info": {
   "codemirror_mode": {
    "name": "ipython",
    "version": 3
   },
   "file_extension": ".py",
   "mimetype": "text/x-python",
   "name": "python",
   "nbconvert_exporter": "python",
   "pygments_lexer": "ipython3",
   "version": "3.12.2"
  }
 },
 "nbformat": 4,
 "nbformat_minor": 5
}
