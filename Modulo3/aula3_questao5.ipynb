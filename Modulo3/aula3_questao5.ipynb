{
 "cells": [
  {
   "cell_type": "markdown",
   "id": "a9db5826-86ff-486d-820d-eed64d3e2e36",
   "metadata": {},
   "source": [
    "Exercicio 5 - Solicite de um usuário seu gênero (\"M\" ou \"F\"), sua idade e seu tempo de serviço (em anos) e escreva uma expressão que imprima True se a pessoa já pode se aposentar, ou False caso contrário, de acordo com as seguintes regras:\n",
    "\n",
    "A: Para mulheres, ter mais de 60 anos. Para homens, 65.\n",
    "\n",
    "B: Ou ter trabalhado pelo menos 30 anos\n",
    "\n",
    "C: Ou ter 60 anos  e trabalhado pelo menos 25."
   ]
  },
  {
   "cell_type": "code",
   "execution_count": 14,
   "id": "8b102507-aae0-4093-9ddc-a2e590e7194e",
   "metadata": {},
   "outputs": [
    {
     "name": "stdin",
     "output_type": "stream",
     "text": [
      " f\n",
      " 63\n",
      " 30\n"
     ]
    },
    {
     "name": "stdout",
     "output_type": "stream",
     "text": [
      "True True True True\n"
     ]
    }
   ],
   "source": [
    "# Entrada de dados\n",
    "#genero, idade e tempo de serviço\n",
    "genero = input()\n",
    "idade = int(input())\n",
    "tempo = int (input())\n",
    "\n",
    "#processamento\n",
    "# A: Para mulheres maiores ter mais de 60 anos. Para homens, 65.\n",
    "# B: ou ter trabalhado pelo menos 30anos.\n",
    "# C: Ou ter 60 anos e ter trabalhado pelo menos 25 anos.\n",
    "a = (genero == 'f' and idade >= 60) or \\\n",
    "    (genero == 'm' and idade >= 65)\n",
    "b = tempo >= 30\n",
    "c = idade >= 60 and tempo >= 25\n",
    "\n",
    "pode_aposentar = a or b or c\n",
    "\n",
    "#saida\n",
    "print(a,b,c, pode_aposentar)"
   ]
  },
  {
   "cell_type": "code",
   "execution_count": null,
   "id": "89c5ba53-d180-4593-93f3-7063d2a15ce5",
   "metadata": {},
   "outputs": [],
   "source": []
  }
 ],
 "metadata": {
  "kernelspec": {
   "display_name": "Python 3 (ipykernel)",
   "language": "python",
   "name": "python3"
  },
  "language_info": {
   "codemirror_mode": {
    "name": "ipython",
    "version": 3
   },
   "file_extension": ".py",
   "mimetype": "text/x-python",
   "name": "python",
   "nbconvert_exporter": "python",
   "pygments_lexer": "ipython3",
   "version": "3.12.2"
  }
 },
 "nbformat": 4,
 "nbformat_minor": 5
}
