{
 "cells": [
  {
   "cell_type": "markdown",
   "id": "a4a85314-e535-4aad-ab65-a4967c4e0651",
   "metadata": {},
   "source": [
    "3 - Você está desenvolvendo um sistema de admissão para um clube juvenil de jogos de tabuleiro. Escreva um programa em Python que pergunte ao usuário sua idade, se já jogou pelo menos 3 jogos de tabuleiro (resposta deve ser True ou False) e quantas vezes venceu um jogo. O programa deve imprimir True se o participante tiver entre 16 e 18 anos, já tiver jogado pelo menos 3 jogos e já ter vencido pelo menos 1 jogo, permitindo seu ingresso no clube. Sua expressão deve imprimir False caso contrário. Aqui está um exemplo de interação com seu código no terminal, com entradas de dados destacadas em laranja e as impressões de seu código em branco.\n"
   ]
  },
  {
   "cell_type": "code",
   "execution_count": 8,
   "id": "262a9114-7ad3-483c-9479-b041791a3ecd",
   "metadata": {},
   "outputs": [
    {
     "name": "stdin",
     "output_type": "stream",
     "text": [
      "Digite sua idade:  17\n",
      "Quantas vezes você já jogou jogos de tabuleiro?  2\n",
      "Quantas vezes você venceu o jogo?  1\n"
     ]
    },
    {
     "name": "stdout",
     "output_type": "stream",
     "text": [
      "Digite sua idade: 17\n",
      "Já jogou pelo menos 3 jogos de tabuleiro? False\n",
      "Quantas vezes venceu o jogo? 1\n",
      " Apto para ingressar no clube de jogo de tabuleiro: True\n"
     ]
    }
   ],
   "source": [
    "# Entrada de dados\n",
    "idade = int(input(\"Digite sua idade: \"))\n",
    "jogou = int(input(\"Quantas vezes você já jogou jogos de tabuleiro? \"))\n",
    "venceu = int(input(\"Quantas vezes você venceu o jogo? \"))\n",
    "\n",
    "# Verificação das condições\n",
    "idade_valida = idade >= 16 and idade <= 18\n",
    "jogou_suficiente = jogou >= 3\n",
    "\n",
    "# Saída de dados\n",
    "print(\"Digite sua idade:\", idade)\n",
    "print(\"Já jogou pelo menos 3 jogos de tabuleiro?\", jogou_suficiente)\n",
    "print(\"Quantas vezes venceu o jogo?\", venceu)\n",
    "\n",
    "# Verifica as condições de admissão\n",
    "pode_entrar = (16 <= idade <= 18) and jogou and (venceu >= 1)\n",
    "\n",
    "# Imprime o resultado final\n",
    "print(\"Apto para ingressar no clube de jogo de tabuleiro:\", pode_entrar)"
   ]
  },
  {
   "cell_type": "code",
   "execution_count": null,
   "id": "d91846dc-1929-4db5-bc81-d05e1250a30a",
   "metadata": {},
   "outputs": [],
   "source": []
  }
 ],
 "metadata": {
  "kernelspec": {
   "display_name": "Python 3 (ipykernel)",
   "language": "python",
   "name": "python3"
  },
  "language_info": {
   "codemirror_mode": {
    "name": "ipython",
    "version": 3
   },
   "file_extension": ".py",
   "mimetype": "text/x-python",
   "name": "python",
   "nbconvert_exporter": "python",
   "pygments_lexer": "ipython3",
   "version": "3.12.2"
  }
 },
 "nbformat": 4,
 "nbformat_minor": 5
}
