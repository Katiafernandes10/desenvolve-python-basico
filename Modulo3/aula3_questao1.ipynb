{
 "cells": [
  {
   "cell_type": "markdown",
   "id": "8e6b20b1-259d-4a93-9fef-eaa90cda9c99",
   "metadata": {},
   "source": [
    "1 - Juliana e Cris querem entrar em um bar, mas só podem se ambos forem maiores de idade (>17). Escreva um programa que solicite as idades de Juliana e Cris e imprima True se ambas forem maiores de 17 anos, indicando que podem entrar no bar, e False caso contrário.\n"
   ]
  },
  {
   "cell_type": "code",
   "execution_count": 1,
   "id": "5cbae37a-9020-42e1-86b1-49020ee23bec",
   "metadata": {},
   "outputs": [
    {
     "name": "stdin",
     "output_type": "stream",
     "text": [
      " 15\n",
      " 15\n"
     ]
    },
    {
     "data": {
      "text/plain": [
       "False"
      ]
     },
     "execution_count": 1,
     "metadata": {},
     "output_type": "execute_result"
    }
   ],
   "source": [
    "\n",
    "idade_juliana = int(input())\n",
    "idades_cris = int(input())\n",
    "\n",
    "idade_juliana>= 18"
   ]
  },
  {
   "cell_type": "code",
   "execution_count": null,
   "id": "95198fe0-a619-45d9-95b4-f9e282a50bd5",
   "metadata": {},
   "outputs": [],
   "source": [
    "# entrada de dados\n",
    "#idade de juliana\n",
    "#idade de cris\n",
    "idade_juliana = int(input())\n",
    "idades_cris = int(input())\n",
    "\n",
    "#processamento\n",
    "#True se ambos forem maior de idade\n",
    "#exp1> juliana é maior de idade\n",
    "#<exp2> cris é maior de idade\n",
    "#<exp1> and <exp2>\n",
    "#False em qualquer outro caso\n",
    "pode_entar = idade_juliana >= 18 and idade_cris >=18:\n",
    "\n",
    "#saída\n",
    "print(pode_entar)"
   ]
  },
  {
   "cell_type": "code",
   "execution_count": null,
   "id": "985e1771-e579-4237-a892-2fe2bb7533b5",
   "metadata": {},
   "outputs": [],
   "source": []
  }
 ],
 "metadata": {
  "kernelspec": {
   "display_name": "Python 3 (ipykernel)",
   "language": "python",
   "name": "python3"
  },
  "language_info": {
   "codemirror_mode": {
    "name": "ipython",
    "version": 3
   },
   "file_extension": ".py",
   "mimetype": "text/x-python",
   "name": "python",
   "nbconvert_exporter": "python",
   "pygments_lexer": "ipython3",
   "version": "3.12.2"
  }
 },
 "nbformat": 4,
 "nbformat_minor": 5
}
