{
 "cells": [
  {
   "cell_type": "markdown",
   "id": "7fe18108-435c-4337-a58e-e2b9114e4c35",
   "metadata": {},
   "source": [
    "2 -Escreva um programa que lê dois números e informa se a sua soma é par ou ímpar. Critério: se o resto da divisão do número por 2 for 0, o número é par, caso contrário é ímpar. Lembre-se do operador do python % que retorna o resto de uma divisão. "
   ]
  },
  {
   "cell_type": "code",
   "execution_count": 4,
   "id": "1e32d666-f074-42c8-8cca-3a283b8b2237",
   "metadata": {},
   "outputs": [
    {
     "name": "stdin",
     "output_type": "stream",
     "text": [
      " 10\n",
      " 5\n"
     ]
    },
    {
     "name": "stdout",
     "output_type": "stream",
     "text": [
      "É impar\n"
     ]
    }
   ],
   "source": [
    "n1,n2 = int(input()),int(input())\n",
    "print(\"É par\" if (n1+n2) % 2 == 0 else \"É impar\")\n"
   ]
  },
  {
   "cell_type": "code",
   "execution_count": 6,
   "id": "958d417f-6cb8-4d86-9ad0-e2aaf1496214",
   "metadata": {},
   "outputs": [
    {
     "name": "stdin",
     "output_type": "stream",
     "text": [
      " 3\n",
      " 30\n",
      " 2\n"
     ]
    },
    {
     "name": "stdout",
     "output_type": "stream",
     "text": [
      "-0.06711713768375265 -9.932882862316248\n"
     ]
    }
   ],
   "source": [
    "a,b,c = int(input()), int(input()), int(input())\n",
    "delta = b**2 - 4*a*c\n",
    "if delta>0:  \n",
    "    raiz1= (-b + delta**(1/2)) /(2*a)\n",
    "    raiz2 = (-b - delta**(1/2)) /(2*a)\n",
    "    print(raiz1, raiz2)\n",
    "else:\n",
    "    prnt(\"Não tem raizes reais, poid delta=\", delta)\n",
    "    "
   ]
  },
  {
   "cell_type": "code",
   "execution_count": null,
   "id": "dd286521-db64-462b-9df8-76ba30146847",
   "metadata": {},
   "outputs": [],
   "source": []
  }
 ],
 "metadata": {
  "kernelspec": {
   "display_name": "Python 3 (ipykernel)",
   "language": "python",
   "name": "python3"
  },
  "language_info": {
   "codemirror_mode": {
    "name": "ipython",
    "version": 3
   },
   "file_extension": ".py",
   "mimetype": "text/x-python",
   "name": "python",
   "nbconvert_exporter": "python",
   "pygments_lexer": "ipython3",
   "version": "3.12.2"
  }
 },
 "nbformat": 4,
 "nbformat_minor": 5
}
