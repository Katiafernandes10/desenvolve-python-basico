{
 "cells": [
  {
   "cell_type": "markdown",
   "id": "9d4f8bcd-dce6-44e8-a69e-de4b6bb6df04",
   "metadata": {},
   "source": [
    "4 - Você é mestre de uma mesa de RPG e vai criar um sistema para validar uma ficha de personagem. Cada personagem tem uma classe específica com requisitos de atributos. Escreva um script que solicita a classe de personagem escolhida (guerreiro, mago ou arqueiro), os pontos de força e os pontos de magia atribuídos ao personagem. O programa deve imprimir True se os pontos de atributo são consistentes com a classe escolhida, seguindo as seguintes regras:\n",
    "\n",
    "Guerreiro: Força deve ser igual ou superior a 15, Magia deve ser 10 ou menos.\n",
    "\n",
    "Mago: Força deve ser 10 ou menos, Magia deve ser igual ou superior a 15.\n",
    "\n",
    "Arqueiro: Força e Magia devem ser ambos superiores a 5, mas nenhum deles pode ser superior a 15.\n",
    "\n",
    "O programa deve imprimir False se os pontos de atributo não são consistentes com a classe escolhida. Segue um exemplo de interação com seu código no terminal, com entradas de dados destacadas em laranja e as impressões de seu código em branco\n"
   ]
  },
  {
   "cell_type": "code",
   "execution_count": 4,
   "id": "a4ac6d7d-2342-4e78-9751-48aa5ce2c285",
   "metadata": {},
   "outputs": [
    {
     "name": "stdin",
     "output_type": "stream",
     "text": [
      "Digite a classe do personagem (guerreiro, mago ou arqueiro):  mago\n",
      "Digite os pontos de força:  8\n",
      "Digite os pontos de magia:  17\n"
     ]
    },
    {
     "name": "stdout",
     "output_type": "stream",
     "text": [
      "Pontos de atributo são consistentes com a classe escolhida: True\n"
     ]
    }
   ],
   "source": [
    "classe = input(\"Digite a classe do personagem (guerreiro, mago ou arqueiro): \").strip().lower()\n",
    "forca = int(input(\"Digite os pontos de força: \"))\n",
    "magia = int(input(\"Digite os pontos de magia: \"))\n",
    "\n",
    "if classe == \"guerreiro\":\n",
    "    valido = forca >= 15 and magia <= 10\n",
    "elif classe == \"mago\":\n",
    "    valido = forca <= 10 and magia >= 15\n",
    "elif classe == \"arqueiro\":\n",
    "    valido = (forca > 5 and forca <= 15) and (magia > 5 and magia <= 15)\n",
    "else:\n",
    "    valido = False  # classe inválida\n",
    "\n",
    "print(\"Pontos de atributo são consistentes com a classe escolhida:\", valido)\n"
   ]
  },
  {
   "cell_type": "code",
   "execution_count": null,
   "id": "e21cc7c0-0fc7-473e-9b06-996a3c880943",
   "metadata": {},
   "outputs": [],
   "source": []
  }
 ],
 "metadata": {
  "kernelspec": {
   "display_name": "Python 3 (ipykernel)",
   "language": "python",
   "name": "python3"
  },
  "language_info": {
   "codemirror_mode": {
    "name": "ipython",
    "version": 3
   },
   "file_extension": ".py",
   "mimetype": "text/x-python",
   "name": "python",
   "nbconvert_exporter": "python",
   "pygments_lexer": "ipython3",
   "version": "3.12.2"
  }
 },
 "nbformat": 4,
 "nbformat_minor": 5
}
