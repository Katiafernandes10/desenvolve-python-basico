{
 "cells": [
  {
   "cell_type": "markdown",
   "id": "0318811c-f2b9-426b-ba2d-9903f8cdaa5c",
   "metadata": {},
   "source": [
    "1-Você está criando um sistema de classificação de filmes com base nas avaliações dos usuários. Escreva um programa em Python que solicita ao usuário para inserir a avaliação de um filme em uma escala de 1 a 5. O programa deve imprimir uma mensagem correspondente à classificação do filme:\n",
    "\n",
    "Se a avaliação for 5, imprima \"Excelente!\"\n",
    "\n",
    "Se a avaliação for 4, imprima \"Muito Bom!\"\n",
    "\n",
    "Se a avaliação for 3, imprima \"Bom!\"\n",
    "\n",
    "Se a avaliação for 2, imprima \"Regular.\"\n",
    "\n",
    "Se a avaliação for 1, imprima \"Ruim.\""
   ]
  },
  {
   "cell_type": "code",
   "execution_count": 23,
   "id": "ad10fad7-ab49-4019-b7ad-1f39c9fea2bc",
   "metadata": {},
   "outputs": [
    {
     "name": "stdin",
     "output_type": "stream",
     "text": [
      "Avalie o filme, digite uma nota de 1 a 5:  5\n"
     ]
    },
    {
     "name": "stdout",
     "output_type": "stream",
     "text": [
      "Excelente\n"
     ]
    }
   ],
   "source": [
    "nota = int(input(\"Avalie o filme, digite uma nota de 1 a 5: \"))\n",
    "if nota == 1:\n",
    "    print(\"Ruim\")\n",
    "elif nota == 2 :\n",
    "    print(\"Regular\")\n",
    "elif nota == 3 :\n",
    "    print(\"BOM!\")\n",
    "elif nota == 4 :\n",
    "    print(\"Muito Bom!\")\n",
    "elif nota == 5 :\n",
    "    print(\"Excelente\")\n",
    "else :\n",
    "    print(\"Avaliação inválida. Por favor, digite um número de 1 a 5\")\n",
    "          \n",
    "          "
   ]
  },
  {
   "cell_type": "code",
   "execution_count": null,
   "id": "d2e7fcf6-7892-48a1-a5f4-5130b51f3843",
   "metadata": {},
   "outputs": [],
   "source": []
  },
  {
   "cell_type": "code",
   "execution_count": null,
   "id": "ccda2374-64f4-4c67-8915-2f1af32bba54",
   "metadata": {},
   "outputs": [],
   "source": []
  }
 ],
 "metadata": {
  "kernelspec": {
   "display_name": "Python 3 (ipykernel)",
   "language": "python",
   "name": "python3"
  },
  "language_info": {
   "codemirror_mode": {
    "name": "ipython",
    "version": 3
   },
   "file_extension": ".py",
   "mimetype": "text/x-python",
   "name": "python",
   "nbconvert_exporter": "python",
   "pygments_lexer": "ipython3",
   "version": "3.12.2"
  }
 },
 "nbformat": 4,
 "nbformat_minor": 5
}
