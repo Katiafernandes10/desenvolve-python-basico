{
 "cells": [
  {
   "cell_type": "markdown",
   "id": "ecd6085f-f0c8-484a-9b53-b2b6e2ca49fd",
   "metadata": {},
   "source": [
    "3- Você está desenvolvendo um programa para verificar se um ano é bissexto. Escreva um código em Python que solicita ao usuário para inserir um ano e imprime \"Bissexto\" se o ano for (1) divisível por 4 e não for divisível por 100, ou (2) se for divisível por 400. Caso contrário, imprima \"Não Bissexto\". \n",
    "\n",
    "Teste seu código com os valores: 1900 (não bissexto), 2000 (bissexto), 2016 (bissexto) e 2017 (não bissexto). \n"
   ]
  },
  {
   "cell_type": "code",
   "execution_count": 5,
   "id": "ac89863d-0c83-462b-8007-265aa11cf1f6",
   "metadata": {},
   "outputs": [
    {
     "name": "stdin",
     "output_type": "stream",
     "text": [
      "Digite um ano:  1900\n"
     ]
    },
    {
     "name": "stdout",
     "output_type": "stream",
     "text": [
      "Não Bissexto\n"
     ]
    }
   ],
   "source": [
    "# Solicita o ano ao usuário\n",
    "ano = int(input(\"Digite um ano: \"))\n",
    "\n",
    "# Verifica se o ano é bissexto\n",
    "if (ano % 4 == 0 and ano % 100 != 0) or (ano % 400 == 0):\n",
    "    print(\"Bissexto\")\n",
    "else:\n",
    "    print(\"Não Bissexto\")"
   ]
  },
  {
   "cell_type": "code",
   "execution_count": null,
   "id": "fc8476d4-deca-4687-b1dd-9b4a588d3a57",
   "metadata": {},
   "outputs": [],
   "source": []
  }
 ],
 "metadata": {
  "kernelspec": {
   "display_name": "Python 3 (ipykernel)",
   "language": "python",
   "name": "python3"
  },
  "language_info": {
   "codemirror_mode": {
    "name": "ipython",
    "version": 3
   },
   "file_extension": ".py",
   "mimetype": "text/x-python",
   "name": "python",
   "nbconvert_exporter": "python",
   "pygments_lexer": "ipython3",
   "version": "3.12.2"
  }
 },
 "nbformat": 4,
 "nbformat_minor": 5
}
