{
 "cells": [
  {
   "cell_type": "markdown",
   "id": "0f0c8163-cb3c-4f30-bca2-06314bd73da9",
   "metadata": {},
   "source": [
    "4- Você está implementando um sistema de entrega expressa e precisa calcular o valor do frete com base na distância e no peso do pacote. Escreva um código que solicita a distância da entrega em quilômetros e o peso do pacote em quilogramas. O programa deve calcular e imprimir o valor do frete de acordo com as seguintes regras:\n",
    "\n",
    "Distância até 100 km: R$1 por kg.\n",
    "Distância entre 101 e 300 km: R$1.50 por kg.\n",
    "Distância acima de 300 km: R$2 por kg.\n",
    "Acrescente uma taxa de R$10 para pacotes com peso superior a 10 kg"
   ]
  },
  {
   "cell_type": "code",
   "execution_count": 2,
   "id": "a99d90db-e147-42fd-989c-454b23b80f5e",
   "metadata": {},
   "outputs": [
    {
     "name": "stdin",
     "output_type": "stream",
     "text": [
      "Digite a distância da entrega (em km):  80\n",
      "Digite o peso do pacote (em kg):  200\n"
     ]
    },
    {
     "name": "stdout",
     "output_type": "stream",
     "text": [
      "Valor total do frete: R$210.00\n"
     ]
    }
   ],
   "source": [
    "# Solicita a distância e o peso do pacote\n",
    "distancia = float(input(\"Digite a distância da entrega (em km): \"))\n",
    "peso = float(input(\"Digite o peso do pacote (em kg): \"))\n",
    "\n",
    "# Determina o valor por kg com base na distância\n",
    "if distancia <= 100:\n",
    "    valor_por_kg = 1.00\n",
    "elif distancia <= 300:\n",
    "    valor_por_kg = 1.50\n",
    "else:\n",
    "    valor_por_kg = 2.00\n",
    "\n",
    "# Calcula o valor base do frete\n",
    "frete = peso * valor_por_kg\n",
    "\n",
    "# Adiciona a taxa extra se o peso for superior a 10 kg\n",
    "if peso > 10:\n",
    "    frete += 10\n",
    "\n",
    "# Exibe o valor total do frete\n",
    "print(\"Valor total do frete: R${:.2f}\".format(frete))"
   ]
  },
  {
   "cell_type": "code",
   "execution_count": null,
   "id": "6e66fc02-a815-49b1-9ba9-846c8424667d",
   "metadata": {},
   "outputs": [],
   "source": []
  },
  {
   "cell_type": "code",
   "execution_count": null,
   "id": "78e903db-123e-408c-800b-5ec76f721f6a",
   "metadata": {},
   "outputs": [],
   "source": []
  },
  {
   "cell_type": "code",
   "execution_count": null,
   "id": "cf41a7b5-ff27-489e-9830-b032025da9e5",
   "metadata": {},
   "outputs": [],
   "source": []
  }
 ],
 "metadata": {
  "kernelspec": {
   "display_name": "Python 3 (ipykernel)",
   "language": "python",
   "name": "python3"
  },
  "language_info": {
   "codemirror_mode": {
    "name": "ipython",
    "version": 3
   },
   "file_extension": ".py",
   "mimetype": "text/x-python",
   "name": "python",
   "nbconvert_exporter": "python",
   "pygments_lexer": "ipython3",
   "version": "3.12.2"
  }
 },
 "nbformat": 4,
 "nbformat_minor": 5
}
