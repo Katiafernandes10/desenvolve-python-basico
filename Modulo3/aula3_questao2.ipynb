{
 "cells": [
  {
   "cell_type": "markdown",
   "id": "6549161f-d416-4c5a-86f5-83b4c5394741",
   "metadata": {},
   "source": [
    "2 - Dando continuidade à questão anterior, um outro bar permite a entrada de grupos onde pelo menos uma pessoa é maior de idade (ficando responsável pelas outras). Ajuste sua resposta da questão anterior, ainda solicitando as idades de Juliana e Cris, mas ajustando a expressão para esse novo cenário, imprimindo True se puderem entrar no bar, e False caso contrário."
   ]
  },
  {
   "cell_type": "code",
   "execution_count": null,
   "id": "3fc9180e-d06d-4529-bd07-906aee5c9bc0",
   "metadata": {},
   "outputs": [],
   "source": [
    "idade_juliana = int(input())\n",
    "idade_cris= int(input())  \n",
    "\n",
    "idade_juliana >=18 or \\\n",
    "idade_cris >=18\n"
   ]
  },
  {
   "cell_type": "code",
   "execution_count": null,
   "id": "70a73e68-e21b-42a4-8b28-a87e98dd208d",
   "metadata": {},
   "outputs": [],
   "source": [
    "# entrada de dados\n",
    "#idade de juliana\n",
    "#idade de cris\n",
    "idade_juliana = int(input())\n",
    "idades_cris = int(input())\n",
    "\n",
    "#processamento\n",
    "#True se pelo menos 1 for maior de idade\n",
    "#exp1> juliana é maior de idade\n",
    "#<exp2> cris é maior de idade\n",
    "#<exp1> or <exp2>\n",
    "#False em qualquer outro caso\n",
    "pode_entar = idade_juliana >=18 or idade_cris >=18\n",
    "\n",
    "#saída\n",
    "print(pode_entar)"
   ]
  },
  {
   "cell_type": "code",
   "execution_count": null,
   "id": "36282ba6-45fa-4a58-b1d1-234db5ae65a7",
   "metadata": {},
   "outputs": [],
   "source": []
  },
  {
   "cell_type": "code",
   "execution_count": null,
   "id": "c089cbff-d643-4abc-bb98-bbb4ea32d2de",
   "metadata": {},
   "outputs": [],
   "source": []
  }
 ],
 "metadata": {
  "kernelspec": {
   "display_name": "Python 3 (ipykernel)",
   "language": "python",
   "name": "python3"
  },
  "language_info": {
   "codemirror_mode": {
    "name": "ipython",
    "version": 3
   },
   "file_extension": ".py",
   "mimetype": "text/x-python",
   "name": "python",
   "nbconvert_exporter": "python",
   "pygments_lexer": "ipython3",
   "version": "3.12.2"
  }
 },
 "nbformat": 4,
 "nbformat_minor": 5
}
