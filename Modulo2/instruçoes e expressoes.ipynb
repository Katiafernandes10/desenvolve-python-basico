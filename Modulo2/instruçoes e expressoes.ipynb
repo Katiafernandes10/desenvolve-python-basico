{
 "cells": [
  {
   "cell_type": "markdown",
   "id": "b25661bc-3355-464a-9c49-b59b8b8d31d9",
   "metadata": {},
   "source": [
    "Módulo 2\n",
    "2.3 Instruções e Expressões\n",
    "Q1\n",
    "Faça um programa que armazene o valor de 20 reais de salário por hora de um trabalhador, e o número de 40 horas trabalhadas na semana. Com essas informações, calcule e imprima:\n",
    "\n",
    "Salário semanal bruto\n",
    "Valor descontado por semana INSS (10% do bruto)\n",
    "Valor descontado por semana pelo sindicato (5% do bruto)\n",
    "Salário semanal líquido (Bruto - Descontos)"
   ]
  },
  {
   "cell_type": "code",
   "execution_count": 11,
   "id": "b225fa66-3670-4a12-beb1-61e96031171e",
   "metadata": {},
   "outputs": [
    {
     "name": "stdout",
     "output_type": "stream",
     "text": [
      "O salario bruto é 800\n",
      "o desconto INSS é 80.0\n",
      "O desconto sindicato é 40.0\n",
      "O salário líquido é 680.0\n"
     ]
    }
   ],
   "source": [
    "salario_hora = 20\n",
    "horas_por_semana = 40\n",
    " \n",
    "salario_bruto = salario_hora * horas_por_semana\n",
    "desconto_inss = 0.1 * salario_bruto\n",
    "desconto_sind = 0.05 * salario_bruto\n",
    "salario_liquido = salario_bruto - (desconto_inss + desconto_sind)\n",
    "\n",
    "print(\"O salario bruto é\", salario_bruto)\n",
    "print(\"o desconto INSS é\", desconto_inss)\n",
    "print (\"O desconto sindicato é\", desconto_sind)\n",
    "print( \"O salário líquido é\", salario_liquido)\n"
   ]
  },
  {
   "cell_type": "markdown",
   "id": "6b3b8eee-643d-446b-9917-49db77664d07",
   "metadata": {},
   "source": [
    "\n",
    "Q2\n",
    "Altere o programa anterior para a partir dos valores de horas trabalhadas por semana e salário por hora, calcular em somente duas instruções:\n",
    "\n",
    "Salário semanal bruto\n",
    "Salário semanal líquido com todos os descontos. Para a segunda instrução, realize todos os cálculos aritméticos em uma expressão composta.\n"
   ]
  },
  {
   "cell_type": "code",
   "execution_count": 13,
   "id": "8ab0bc3d-b0dc-4866-877c-9ee52ace8d08",
   "metadata": {},
   "outputs": [
    {
     "name": "stdout",
     "output_type": "stream",
     "text": [
      "O salario bruto é 800\n",
      "O salário líquido é 680.0\n"
     ]
    }
   ],
   "source": [
    "salario_hora = 20\n",
    "horas_por_semana = 40\n",
    " \n",
    "salario_bruto = salario_hora * horas_por_semana\n",
    "salario_liquido = salario_bruto - (0.1 * salario_bruto) - (0.05 * salario_bruto)\n",
    "\n",
    "print(\"O salario bruto é\", salario_bruto)\n",
    "print( \"O salário líquido é\", salario_liquido)\n"
   ]
  },
  {
   "cell_type": "markdown",
   "id": "d66b7b62-7048-4c2c-9d3b-2dd981a189c7",
   "metadata": {},
   "source": [
    "Q3\n",
    "Você está desenvolvendo um software de conversão de moeda e precisa calcular o valor equivalente em yuan chinês a partir de uma quantia em real. A taxa de câmbio é de 0.69 BRL (real) para 1 CNY (yuan). Escreva um programa que define em uma variável uma quantia em reais (BRL) e calcula o valor equivalente em yuan (CNY). Imprima o resultado."
   ]
  },
  {
   "cell_type": "code",
   "execution_count": 21,
   "id": "ee2ca2a7-4c5d-4ace-a0c3-5a70772a6fd1",
   "metadata": {},
   "outputs": [
    {
     "name": "stdout",
     "output_type": "stream",
     "text": [
      "10 reais Brasileiro, é equivalente 6.8999999999999995 yuan chinês\n"
     ]
    }
   ],
   "source": [
    "valor_real = 10\n",
    "taxa_cambio = 0.69\n",
    "valor_yuan_chines= valor_real * taxa_cambio\n",
    "\n",
    "print(valor_real, \"reais Brasileiro, é equivalente\", valor_yuan_chines, \"yuan chinês\")"
   ]
  },
  {
   "cell_type": "markdown",
   "id": "a36b92a9-41f2-4b8a-99b2-64c43c3f0b76",
   "metadata": {},
   "source": [
    "Q4\n",
    "Você é um treinador de corrida e deseja calcular a velocidade média que um atleta precisa manter para completar a Maratona Internacional de São Silvestre, que tem uma distância total de 42.195 km. A fórmula para calcular a velocidade média é dada por ( v_media= distancia/tempo) . Escreva um programa em Python para calcular a velocidade média necessária para completar a maratona em 3 horas.\n",
    "\n",
    "Calcule e imprima o resultado em metros/segundo, ou seja, converta a distância de quilômetros para metros ( metro = km*1000) e a velocidade de horas para segundos (segundos=hora*3600)\n",
    " \n",
    "."
   ]
  },
  {
   "cell_type": "code",
   "execution_count": 1,
   "id": "5b1474ff-dad7-4ca4-83d8-7df0e4972bd3",
   "metadata": {},
   "outputs": [
    {
     "name": "stdout",
     "output_type": "stream",
     "text": [
      "A velocidade media é 14.065  km/h\n",
      "A velocidade media é 3.9069444444444446  m/s\n"
     ]
    }
   ],
   "source": [
    "distancia_km= 42.195\n",
    "tempo_h = 3\n",
    "velocidade_media_km= distancia_km/tempo_h\n",
    "\n",
    "print( \"A velocidade media é\", velocidade_media_km, \" km/h\")\n",
    "\n",
    "distancia_metro= distancia_km*1000\n",
    "tempo_s= tempo_h*3600\n",
    "velocidade_media_ms= distancia_metro / tempo_s\n",
    "\n",
    "print( \"A velocidade media é\", velocidade_media_ms, \" m/s\")\n"
   ]
  },
  {
   "cell_type": "code",
   "execution_count": null,
   "id": "0ef9df30-db6b-4150-8a58-700984242dba",
   "metadata": {},
   "outputs": [],
   "source": []
  },
  {
   "cell_type": "code",
   "execution_count": null,
   "id": "d982ca7e-63ca-4c82-85de-a99790c486df",
   "metadata": {},
   "outputs": [],
   "source": []
  },
  {
   "cell_type": "code",
   "execution_count": null,
   "id": "ec6b386b-d097-4743-ada6-7dee1314b7e5",
   "metadata": {},
   "outputs": [],
   "source": []
  }
 ],
 "metadata": {
  "kernelspec": {
   "display_name": "Python 3 (ipykernel)",
   "language": "python",
   "name": "python3"
  },
  "language_info": {
   "codemirror_mode": {
    "name": "ipython",
    "version": 3
   },
   "file_extension": ".py",
   "mimetype": "text/x-python",
   "name": "python",
   "nbconvert_exporter": "python",
   "pygments_lexer": "ipython3",
   "version": "3.12.2"
  }
 },
 "nbformat": 4,
 "nbformat_minor": 5
}
