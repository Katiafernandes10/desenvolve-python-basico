{
 "cells": [
  {
   "cell_type": "markdown",
   "id": "9286e908-2497-4b4b-b570-4a885a982f42",
   "metadata": {},
   "source": [
    "Questão2 - Transforme o seguinte algoritmo em código. Lembre-se das funções print e type que já conhecemos de forma geral.\n",
    "\n",
    "1 - Armazene o texto \"o resultado é\"  em uma variável, o valor 10 em outra variável, e o valor 3.5 numa terceira variável.\n",
    "\n",
    "2 - Some os valores da segunda e terceira variável e armazene em outra variável.\n",
    "\n",
    "3 - Imprima todas as variáveis na ordem de criação e imprima também seus tipos.\n"
   ]
  },
  {
   "cell_type": "code",
   "execution_count": 10,
   "id": "7e364553-4bb0-4287-b044-d8d69a631583",
   "metadata": {},
   "outputs": [
    {
     "name": "stdout",
     "output_type": "stream",
     "text": [
      "o resultado é\n",
      "10\n",
      "<class 'int'>\n",
      "3.5\n",
      "<class 'float'>\n",
      "13.5\n",
      "<class 'float'>\n"
     ]
    }
   ],
   "source": [
    "texto= \"o resultado é\"\n",
    "print(texto)\n",
    "V1= 10\n",
    "print(V1)\n",
    "print(type (V1),)\n",
    "V2=3.5\n",
    "print(V2)\n",
    "print(type (V2))\n",
    "soma= V1+V2\n",
    "print(soma)\n",
    "print(type(soma))\n",
    "\n"
   ]
  },
  {
   "cell_type": "code",
   "execution_count": null,
   "id": "7c0103a5-9d93-4df5-ad9d-6ddfc3cda0db",
   "metadata": {},
   "outputs": [],
   "source": []
  }
 ],
 "metadata": {
  "kernelspec": {
   "display_name": "Python 3 (ipykernel)",
   "language": "python",
   "name": "python3"
  },
  "language_info": {
   "codemirror_mode": {
    "name": "ipython",
    "version": 3
   },
   "file_extension": ".py",
   "mimetype": "text/x-python",
   "name": "python",
   "nbconvert_exporter": "python",
   "pygments_lexer": "ipython3",
   "version": "3.12.2"
  }
 },
 "nbformat": 4,
 "nbformat_minor": 5
}
