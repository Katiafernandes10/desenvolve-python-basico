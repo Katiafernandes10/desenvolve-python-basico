{
 "cells": [
  {
   "cell_type": "markdown",
   "id": "d66d933a-e47d-473a-b674-f05f51599809",
   "metadata": {},
   "source": [
    "Questão3 - Dadas duas variáveis v1 = 10 e v2 = 20, utilize uma terceira variável para trocar os valores entre as duas variáveis. Ou seja, ao final v1 terá o valor de v2, e v2 o valor de v1. Você deve usar uma variável auxiliar de troca, não podendo atribuir os novos valores diretamente. \n",
    "\n",
    "    "
   ]
  },
  {
   "cell_type": "code",
   "execution_count": 3,
   "id": "b5592d56-4ae3-44e5-9765-cdfbd8996c24",
   "metadata": {},
   "outputs": [
    {
     "name": "stdout",
     "output_type": "stream",
     "text": [
      "v1: 10\n",
      "v2: 20\n",
      "v1: 20\n",
      "v2: 10\n"
     ]
    }
   ],
   "source": [
    "v1=10\n",
    "v2=20\n",
    "print(\"v1:\",v1) \n",
    "print(\"v2:\", v2)\n",
    "aux= v1\n",
    "v1=v2\n",
    "v2=aux\n",
    "\n",
    "print(\"v1:\",v1)\n",
    "print(\"v2:\",v2)\n"
   ]
  },
  {
   "cell_type": "code",
   "execution_count": null,
   "id": "4a29e116-e88a-4299-9a8d-9f2b013207af",
   "metadata": {},
   "outputs": [],
   "source": []
  },
  {
   "cell_type": "code",
   "execution_count": null,
   "id": "f3670178-0e28-4eae-8b64-78ac3367219b",
   "metadata": {},
   "outputs": [],
   "source": []
  }
 ],
 "metadata": {
  "kernelspec": {
   "display_name": "Python 3 (ipykernel)",
   "language": "python",
   "name": "python3"
  },
  "language_info": {
   "codemirror_mode": {
    "name": "ipython",
    "version": 3
   },
   "file_extension": ".py",
   "mimetype": "text/x-python",
   "name": "python",
   "nbconvert_exporter": "python",
   "pygments_lexer": "ipython3",
   "version": "3.12.2"
  }
 },
 "nbformat": 4,
 "nbformat_minor": 5
}
