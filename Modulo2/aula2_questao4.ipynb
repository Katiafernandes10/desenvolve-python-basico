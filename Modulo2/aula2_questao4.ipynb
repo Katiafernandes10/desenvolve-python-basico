{
 "cells": [
  {
   "cell_type": "markdown",
   "id": "fed1a45f-e4fe-477d-84db-83469c8877cb",
   "metadata": {},
   "source": [
    "4 - Uma conta poupança foi aberta com um depósito de R$500,00. Esta conta é remunerada em 1% de juros ao mês. O código a seguir apresenta uma forma de implementação para calcular três meses de acúmulo de juros. Reescreva esse código usando apenas duas variáveis."
   ]
  },
  {
   "cell_type": "code",
   "execution_count": 2,
   "id": "dedb658e-cd9d-4ea4-b903-b0c6048b29c0",
   "metadata": {},
   "outputs": [
    {
     "name": "stdout",
     "output_type": "stream",
     "text": [
      "500.0\n",
      "505.0\n",
      "510.05\n",
      "515.1505\n",
      "<class 'float'>\n"
     ]
    }
   ],
   "source": [
    "juros= 1.01\n",
    "saldo= 500.0\n",
    "print(saldo)\n",
    "saldo= saldo * juros # 505 rendimento1 \n",
    "print(saldo)\n",
    "saldo= saldo * juros #510 rendimento2\n",
    "print(saldo)\n",
    "saldo= saldo * juros # 515 rendimento3\n",
    "print(saldo)\n",
    "\n",
    "print(type(saldo))"
   ]
  },
  {
   "cell_type": "code",
   "execution_count": null,
   "id": "78dff72e-b409-401b-874a-63d234d7b40e",
   "metadata": {},
   "outputs": [],
   "source": []
  }
 ],
 "metadata": {
  "kernelspec": {
   "display_name": "Python 3 (ipykernel)",
   "language": "python",
   "name": "python3"
  },
  "language_info": {
   "codemirror_mode": {
    "name": "ipython",
    "version": 3
   },
   "file_extension": ".py",
   "mimetype": "text/x-python",
   "name": "python",
   "nbconvert_exporter": "python",
   "pygments_lexer": "ipython3",
   "version": "3.12.2"
  }
 },
 "nbformat": 4,
 "nbformat_minor": 5
}
