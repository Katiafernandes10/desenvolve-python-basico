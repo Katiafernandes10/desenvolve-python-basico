{
 "cells": [
  {
   "cell_type": "code",
   "execution_count": null,
   "id": "3471895b-93ea-4b75-aede-5ee7ae31dd42",
   "metadata": {},
   "outputs": [],
   "source": [
    "\n",
    "1 - Transforme o seguinte algoritmo em código. Lembre-se das funções print e type que já conhecemos de forma geral.\n",
    "\n",
    "\n",
    "Armazene o valor 5 em uma variável e o valor 2 em outra variável\n",
    "\n",
    "Imprima o tipo de dados dessas duas variáveis\n",
    "\n",
    "Divida a primeira variável (com o valor 5) pela segunda variável (com o valor 2) e armazene o resultado em uma terceira variável\n",
    "\n",
    "Imprima a terceira variável e também o seu tipo\n"
   ]
  },
  {
   "cell_type": "code",
   "execution_count": 1,
   "id": "fafa391d-7d0a-45bd-b4fd-55797295bafe",
   "metadata": {},
   "outputs": [
    {
     "name": "stdout",
     "output_type": "stream",
     "text": [
      "<class 'int'>\n",
      "<class 'int'>\n",
      "2.5\n",
      "<class 'float'>\n"
     ]
    }
   ],
   "source": [
    "v1= 5\n",
    "v2= 2\n",
    "print(type(v1))\n",
    "print(type(v2))\n",
    "\n",
    "divisao= v1/v2\n",
    "print(divisao)\n",
    "print(type(divisao))"
   ]
  },
  {
   "cell_type": "code",
   "execution_count": null,
   "id": "a51dd6a7-39f7-462a-b0cb-b04187924f3a",
   "metadata": {},
   "outputs": [],
   "source": []
  }
 ],
 "metadata": {
  "kernelspec": {
   "display_name": "Python 3 (ipykernel)",
   "language": "python",
   "name": "python3"
  },
  "language_info": {
   "codemirror_mode": {
    "name": "ipython",
    "version": 3
   },
   "file_extension": ".py",
   "mimetype": "text/x-python",
   "name": "python",
   "nbconvert_exporter": "python",
   "pygments_lexer": "ipython3",
   "version": "3.12.2"
  }
 },
 "nbformat": 4,
 "nbformat_minor": 5
}
